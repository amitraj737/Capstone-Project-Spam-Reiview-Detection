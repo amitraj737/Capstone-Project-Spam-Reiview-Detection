{
 "cells": [
  {
   "cell_type": "markdown",
   "metadata": {},
   "source": [
    "<h1><center>Features Creation Codes</center></h1>"
   ]
  },
  {
   "cell_type": "markdown",
   "metadata": {},
   "source": [
    "## Steps followed in the notebook:"
   ]
  },
  {
   "cell_type": "markdown",
   "metadata": {},
   "source": [
    "1. Preparing the data\n",
    "2. Finding univariate data frequency\n",
    "3. Finding bivariate data frequency\n",
    "4. Splitting the data into chunks to work on\n",
    "5. Creating list of Positive and negative words\n",
    "6. Features creation\n",
    "7. Merging all features to create one dataset\n",
    "8. Exporting the new data to a file for modelling purpose"
   ]
  },
  {
   "cell_type": "code",
   "execution_count": 1,
   "metadata": {},
   "outputs": [],
   "source": [
    "# Importing packages to unzip gzip files\n",
    "import json\n",
    "import gzip\n",
    "import pandas as pd"
   ]
  },
  {
   "cell_type": "markdown",
   "metadata": {},
   "source": [
    "## Step 1: Data preparation"
   ]
  },
  {
   "cell_type": "code",
   "execution_count": 4,
   "metadata": {},
   "outputs": [],
   "source": [
    "# unzipping .gzip files\n",
    "f = open(\"reviews_Cell_Phones_and_Accessories_CLEAN.json\", 'w')\n",
    "\n",
    "for l in parse(\"C:/Users/HP/Downloads/Text mining capstone/reviews_Cell_Phones_and_Accessories_5.json.gz\"):\n",
    "    f.write(l + '\\n')\n",
    "\n",
    "    \n",
    "\n",
    "# Reading the json file after unzip\n",
    "import pandas as pd\n",
    "df = pd.read_json('C:/Users/HP/Downloads/Text mining capstone/reviews_Cell_Phones_and_Accessories_CLEAN.json',lines=True)\n",
    "\n",
    "\n",
    "\n",
    "# Converting jason file to csv file\n",
    "df.to_csv(\"All_Spam_data.csv\")\n",
    "\n",
    "\n",
    "\n",
    "# Reading data from csv\n",
    "df=pd.read_csv(\"All_Spam_data.csv\")"
   ]
  },
  {
   "cell_type": "code",
   "execution_count": 124,
   "metadata": {
    "collapsed": true
   },
   "outputs": [
    {
     "data": {
      "text/html": [
       "<div>\n",
       "<style scoped>\n",
       "    .dataframe tbody tr th:only-of-type {\n",
       "        vertical-align: middle;\n",
       "    }\n",
       "\n",
       "    .dataframe tbody tr th {\n",
       "        vertical-align: top;\n",
       "    }\n",
       "\n",
       "    .dataframe thead th {\n",
       "        text-align: right;\n",
       "    }\n",
       "</style>\n",
       "<table border=\"1\" class=\"dataframe\">\n",
       "  <thead>\n",
       "    <tr style=\"text-align: right;\">\n",
       "      <th></th>\n",
       "      <th>overall</th>\n",
       "      <th>unixReviewTime</th>\n",
       "      <th>Spam</th>\n",
       "    </tr>\n",
       "  </thead>\n",
       "  <tbody>\n",
       "    <tr>\n",
       "      <th>count</th>\n",
       "      <td>24999.000000</td>\n",
       "      <td>2.499700e+04</td>\n",
       "      <td>25000.000000</td>\n",
       "    </tr>\n",
       "    <tr>\n",
       "      <th>mean</th>\n",
       "      <td>4.143326</td>\n",
       "      <td>1.373382e+09</td>\n",
       "      <td>0.050200</td>\n",
       "    </tr>\n",
       "    <tr>\n",
       "      <th>std</th>\n",
       "      <td>1.200239</td>\n",
       "      <td>2.407573e+07</td>\n",
       "      <td>0.218362</td>\n",
       "    </tr>\n",
       "    <tr>\n",
       "      <th>min</th>\n",
       "      <td>1.000000</td>\n",
       "      <td>1.077149e+09</td>\n",
       "      <td>0.000000</td>\n",
       "    </tr>\n",
       "    <tr>\n",
       "      <th>25%</th>\n",
       "      <td>4.000000</td>\n",
       "      <td>1.361318e+09</td>\n",
       "      <td>0.000000</td>\n",
       "    </tr>\n",
       "    <tr>\n",
       "      <th>50%</th>\n",
       "      <td>5.000000</td>\n",
       "      <td>1.374192e+09</td>\n",
       "      <td>0.000000</td>\n",
       "    </tr>\n",
       "    <tr>\n",
       "      <th>75%</th>\n",
       "      <td>5.000000</td>\n",
       "      <td>1.387498e+09</td>\n",
       "      <td>0.000000</td>\n",
       "    </tr>\n",
       "    <tr>\n",
       "      <th>max</th>\n",
       "      <td>5.000000</td>\n",
       "      <td>1.406074e+09</td>\n",
       "      <td>1.000000</td>\n",
       "    </tr>\n",
       "  </tbody>\n",
       "</table>\n",
       "</div>"
      ],
      "text/plain": [
       "            overall  unixReviewTime          Spam\n",
       "count  24999.000000    2.499700e+04  25000.000000\n",
       "mean       4.143326    1.373382e+09      0.050200\n",
       "std        1.200239    2.407573e+07      0.218362\n",
       "min        1.000000    1.077149e+09      0.000000\n",
       "25%        4.000000    1.361318e+09      0.000000\n",
       "50%        5.000000    1.374192e+09      0.000000\n",
       "75%        5.000000    1.387498e+09      0.000000\n",
       "max        5.000000    1.406074e+09      1.000000"
      ]
     },
     "execution_count": 124,
     "metadata": {},
     "output_type": "execute_result"
    }
   ],
   "source": [
    "# Desciption of data\n",
    "df.describe()"
   ]
  },
  {
   "cell_type": "code",
   "execution_count": 126,
   "metadata": {},
   "outputs": [
    {
     "data": {
      "text/plain": [
       "(25000, 10)"
      ]
     },
     "execution_count": 126,
     "metadata": {},
     "output_type": "execute_result"
    }
   ],
   "source": [
    "# Checking the dimention of our dataset\n",
    "df.shape"
   ]
  },
  {
   "cell_type": "code",
   "execution_count": 41,
   "metadata": {},
   "outputs": [],
   "source": [
    "# Names of all columns\n",
    "df.columns\n",
    "\n",
    "\n",
    "# To check the sum of nulls/missing values/NAN's\n",
    "df.isnull().sum()\n",
    "\n",
    "\n",
    "# Deleting rows with null values as the number of nulls are less compaered to our data\n",
    "df=df.dropna()\n",
    "\n",
    "\n",
    "# Dropping off the column 'Unnamed: 0' as its an extra index column\n",
    "df=df.drop('Unnamed: 0',axis=1)"
   ]
  },
  {
   "cell_type": "markdown",
   "metadata": {},
   "source": [
    "## Step 2: Finding univariate data frequency"
   ]
  },
  {
   "cell_type": "code",
   "execution_count": 33,
   "metadata": {},
   "outputs": [],
   "source": [
    "# Check for duplicate reviewers using reviewerID\n",
    "df_freq=df['reviewerID'].value_counts()"
   ]
  },
  {
   "cell_type": "code",
   "execution_count": 34,
   "metadata": {},
   "outputs": [
    {
     "data": {
      "text/plain": [
       "A1E1LEVQ9VQNK     70\n",
       "A1EVV74UQYVKRY    66\n",
       "A18U49406IPPIJ    66\n",
       "AYB4ELCS5AM8P     62\n",
       "A2NYK9KWFMJV4Y    61\n",
       "Name: reviewerID, dtype: int64"
      ]
     },
     "execution_count": 34,
     "metadata": {},
     "output_type": "execute_result"
    }
   ],
   "source": [
    "df_freq.head()"
   ]
  },
  {
   "cell_type": "code",
   "execution_count": 35,
   "metadata": {},
   "outputs": [],
   "source": [
    " # creating frequency distribution\n",
    "df_freq.to_csv(\"total_freq.csv\") "
   ]
  },
  {
   "cell_type": "code",
   "execution_count": 36,
   "metadata": {},
   "outputs": [],
   "source": [
    "df_freq=pd.read_csv(\"total_freq.csv\") "
   ]
  },
  {
   "cell_type": "code",
   "execution_count": 95,
   "metadata": {},
   "outputs": [
    {
     "data": {
      "text/plain": [
       "Index(['reviewerID', 'frequency'], dtype='object')"
      ]
     },
     "execution_count": 95,
     "metadata": {},
     "output_type": "execute_result"
    }
   ],
   "source": [
    " # sorted frequency in desending order\n",
    "df_freq = df_freq.sort_values(by=['Frequency'], ascending=[False])\n",
    "\n",
    "\n",
    "# To see the columns in the data\n",
    "df_freq.columns"
   ]
  },
  {
   "cell_type": "code",
   "execution_count": 96,
   "metadata": {},
   "outputs": [],
   "source": [
    " # creating a new csv file with sorted frequency\n",
    "df_freq.to_csv(\"total_freq_sorted.csv\") "
   ]
  },
  {
   "cell_type": "markdown",
   "metadata": {},
   "source": [
    "## Step 3: Finding bivariate data frequency"
   ]
  },
  {
   "cell_type": "code",
   "execution_count": 154,
   "metadata": {},
   "outputs": [],
   "source": [
    "# For top reviewers do a bi variabte Frequency Distribution\n",
    "df_bi_freq= df[[\"asin\",\"reviewerID\"]]"
   ]
  },
  {
   "cell_type": "code",
   "execution_count": 155,
   "metadata": {},
   "outputs": [
    {
     "name": "stderr",
     "output_type": "stream",
     "text": [
      "E:\\Anaconda\\lib\\site-packages\\ipykernel_launcher.py:1: FutureWarning: using a dict on a Series for aggregation\n",
      "is deprecated and will be removed in a future version\n",
      "  \"\"\"Entry point for launching an IPython kernel.\n"
     ]
    }
   ],
   "source": [
    "df_bi_freq=df_bi_freq.groupby(['reviewerID','asin'])['reviewerID'].agg({'Frequency':'count'})"
   ]
  },
  {
   "cell_type": "code",
   "execution_count": 156,
   "metadata": {},
   "outputs": [],
   "source": [
    "df_bi_freq.to_csv(\"total_bi_freq.csv\")"
   ]
  },
  {
   "cell_type": "code",
   "execution_count": 78,
   "metadata": {},
   "outputs": [],
   "source": [
    "# Writing the data to file\n",
    "df_bi_freq=pd.read_csv(\"total_bi_freq.csv\")"
   ]
  },
  {
   "cell_type": "code",
   "execution_count": 80,
   "metadata": {},
   "outputs": [],
   "source": [
    "# sorted frequency in desending order\n",
    "df_bi_freq = df_bi_freq.sort_values(by=['Frequency'], ascending=[False]) "
   ]
  },
  {
   "cell_type": "code",
   "execution_count": null,
   "metadata": {},
   "outputs": [],
   "source": [
    "# Writing into file\n",
    "df_bi_freq.tocsv(\"total_bi_freq_sorted.csv\") "
   ]
  },
  {
   "cell_type": "markdown",
   "metadata": {},
   "source": [
    "## Step 4: Splitting Data"
   ]
  },
  {
   "cell_type": "code",
   "execution_count": 56,
   "metadata": {},
   "outputs": [],
   "source": [
    "# splitting the data into 40 parts with each consisting 48061 records\n",
    "for i in range(0,40):\n",
    "    new_df=pd.DataFrame(df_split[i])\n",
    "    new_df.to_csv('C:/Users/HP/Downloads/Text mining capstone/split_data/df_{0}.csv'.format(i))"
   ]
  },
  {
   "cell_type": "code",
   "execution_count": 148,
   "metadata": {},
   "outputs": [],
   "source": [
    "# Reading one of the files to check the diemntion\n",
    "df_1=pd.read_csv(\"C:/Users/HP/Downloads/Text mining capstone/split_data/df_1.csv\")"
   ]
  },
  {
   "cell_type": "code",
   "execution_count": 150,
   "metadata": {},
   "outputs": [
    {
     "data": {
      "text/plain": [
       "(4861, 9)"
      ]
     },
     "execution_count": 150,
     "metadata": {},
     "output_type": "execute_result"
    }
   ],
   "source": [
    "# Checking the dimention of the file\n",
    "\n",
    "df_1.shape"
   ]
  },
  {
   "cell_type": "markdown",
   "metadata": {},
   "source": [
    "## Step 5: Creating list of Positive and negative words"
   ]
  },
  {
   "cell_type": "code",
   "execution_count": 8,
   "metadata": {},
   "outputs": [],
   "source": [
    "# Reading list of positive words\n",
    "poswords = pd.read_csv(\"poswords.txt\",header=-1,encoding = 'latin1')"
   ]
  },
  {
   "cell_type": "code",
   "execution_count": 9,
   "metadata": {},
   "outputs": [],
   "source": [
    "# Reading list of negative words\n",
    "negwords = pd.read_csv(\"negwords.txt\",header=-1)"
   ]
  },
  {
   "cell_type": "code",
   "execution_count": 10,
   "metadata": {},
   "outputs": [
    {
     "data": {
      "text/plain": [
       "(2006, 4783)"
      ]
     },
     "execution_count": 10,
     "metadata": {},
     "output_type": "execute_result"
    }
   ],
   "source": [
    "# Checking length of positive and negative words\n",
    "len(poswords),len(negwords)"
   ]
  },
  {
   "cell_type": "code",
   "execution_count": 11,
   "metadata": {},
   "outputs": [],
   "source": [
    "# Renaming columns\n",
    "poswords.columns = [\"words\"]\n",
    "negwords.columns = [\"words\"]"
   ]
  },
  {
   "cell_type": "code",
   "execution_count": 12,
   "metadata": {},
   "outputs": [],
   "source": [
    "# Converting the data into list of words\n",
    "good_list = list(poswords[\"words\"])\n",
    "bad_list = list(negwords[\"words\"])"
   ]
  },
  {
   "cell_type": "markdown",
   "metadata": {},
   "source": [
    "## Step 6: Features creation"
   ]
  },
  {
   "cell_type": "markdown",
   "metadata": {},
   "source": [
    "### F1: No_of_feedbacks"
   ]
  },
  {
   "cell_type": "code",
   "execution_count": 127,
   "metadata": {},
   "outputs": [],
   "source": [
    "import numpy as np"
   ]
  },
  {
   "cell_type": "code",
   "execution_count": 128,
   "metadata": {},
   "outputs": [],
   "source": [
    "A=[]\n",
    "temp=[]\n",
    "for i in df[\"helpful\"]:\n",
    "    d=i.strip(']')\n",
    "    d=d.strip('[')\n",
    "    temp.append(d.split(','))\n",
    "for i in temp:\n",
    "    A.append(int(i[0]))"
   ]
  },
  {
   "cell_type": "code",
   "execution_count": 129,
   "metadata": {},
   "outputs": [],
   "source": [
    "df[\"No_of_feedbacks\"]=pd.DataFrame(A)"
   ]
  },
  {
   "cell_type": "code",
   "execution_count": 130,
   "metadata": {},
   "outputs": [
    {
     "data": {
      "text/plain": [
       "25000"
      ]
     },
     "execution_count": 130,
     "metadata": {},
     "output_type": "execute_result"
    }
   ],
   "source": [
    "len(temp)"
   ]
  },
  {
   "cell_type": "markdown",
   "metadata": {},
   "source": [
    "### F2: No_helpful_feedbacks "
   ]
  },
  {
   "cell_type": "code",
   "execution_count": 131,
   "metadata": {},
   "outputs": [],
   "source": [
    "A=[]\n",
    "for i in temp:\n",
    "    A.append(int(i[1]))"
   ]
  },
  {
   "cell_type": "code",
   "execution_count": 132,
   "metadata": {},
   "outputs": [],
   "source": [
    "df[\"No_helpful_feedbacks\"]=pd.DataFrame(A)"
   ]
  },
  {
   "cell_type": "markdown",
   "metadata": {},
   "source": [
    "### F3: Perc_helpful_feedbacks "
   ]
  },
  {
   "cell_type": "code",
   "execution_count": 133,
   "metadata": {},
   "outputs": [],
   "source": [
    "C=df['No_helpful_feedbacks']/df['No_of_feedbacks']\n",
    "C=C.fillna(0)\n",
    "df[\"Perc_helpful_feedbacks\"]=pd.DataFrame(C)"
   ]
  },
  {
   "cell_type": "code",
   "execution_count": 134,
   "metadata": {},
   "outputs": [
    {
     "name": "stdout",
     "output_type": "stream",
     "text": [
      "<class 'pandas.core.frame.DataFrame'>\n",
      "RangeIndex: 25000 entries, 0 to 24999\n",
      "Data columns (total 13 columns):\n",
      "asin                      25000 non-null object\n",
      "helpful                   25000 non-null object\n",
      "overall                   24999 non-null float64\n",
      "reviewText                24993 non-null object\n",
      "reviewTime                24961 non-null object\n",
      "reviewerID                24999 non-null object\n",
      "reviewerName              24651 non-null object\n",
      "summary                   24999 non-null object\n",
      "unixReviewTime            24997 non-null float64\n",
      "Spam                      25000 non-null int64\n",
      "No_of_feedbacks           25000 non-null int64\n",
      "No_helpful_feedbacks      25000 non-null int64\n",
      "Perc_helpful_feedbacks    25000 non-null float64\n",
      "dtypes: float64(3), int64(3), object(7)\n",
      "memory usage: 2.5+ MB\n"
     ]
    }
   ],
   "source": [
    "df.info()"
   ]
  },
  {
   "cell_type": "code",
   "execution_count": 135,
   "metadata": {
    "collapsed": true
   },
   "outputs": [
    {
     "data": {
      "text/html": [
       "<div>\n",
       "<style scoped>\n",
       "    .dataframe tbody tr th:only-of-type {\n",
       "        vertical-align: middle;\n",
       "    }\n",
       "\n",
       "    .dataframe tbody tr th {\n",
       "        vertical-align: top;\n",
       "    }\n",
       "\n",
       "    .dataframe thead th {\n",
       "        text-align: right;\n",
       "    }\n",
       "</style>\n",
       "<table border=\"1\" class=\"dataframe\">\n",
       "  <thead>\n",
       "    <tr style=\"text-align: right;\">\n",
       "      <th></th>\n",
       "      <th>asin</th>\n",
       "      <th>helpful</th>\n",
       "      <th>overall</th>\n",
       "      <th>reviewText</th>\n",
       "      <th>reviewTime</th>\n",
       "      <th>reviewerID</th>\n",
       "      <th>reviewerName</th>\n",
       "      <th>summary</th>\n",
       "      <th>unixReviewTime</th>\n",
       "      <th>Spam</th>\n",
       "      <th>No_of_feedbacks</th>\n",
       "      <th>No_helpful_feedbacks</th>\n",
       "      <th>Perc_helpful_feedbacks</th>\n",
       "    </tr>\n",
       "  </thead>\n",
       "  <tbody>\n",
       "    <tr>\n",
       "      <th>0</th>\n",
       "      <td>B0015RB39O</td>\n",
       "      <td>[0, 0]</td>\n",
       "      <td>5.0</td>\n",
       "      <td>This product works pretty well for me. I don't...</td>\n",
       "      <td>08 15, 2012</td>\n",
       "      <td>AQDA17WK201Q1</td>\n",
       "      <td>Taylor M.</td>\n",
       "      <td>Work as advertise</td>\n",
       "      <td>1.344989e+09</td>\n",
       "      <td>1</td>\n",
       "      <td>0</td>\n",
       "      <td>0</td>\n",
       "      <td>0.000000</td>\n",
       "    </tr>\n",
       "    <tr>\n",
       "      <th>1</th>\n",
       "      <td>B0015RB39O</td>\n",
       "      <td>[0, 0]</td>\n",
       "      <td>1.0</td>\n",
       "      <td>Worked for 3 days then never worked again. Was...</td>\n",
       "      <td>04 28, 2012</td>\n",
       "      <td>A1V5XDKBWSHHX5</td>\n",
       "      <td>T. Chang</td>\n",
       "      <td>Would not recommend.</td>\n",
       "      <td>1.335571e+09</td>\n",
       "      <td>1</td>\n",
       "      <td>0</td>\n",
       "      <td>0</td>\n",
       "      <td>0.000000</td>\n",
       "    </tr>\n",
       "    <tr>\n",
       "      <th>2</th>\n",
       "      <td>B001630QZE</td>\n",
       "      <td>[17, 34]</td>\n",
       "      <td>1.0</td>\n",
       "      <td>always been a proponent of Bluetooth headset ...</td>\n",
       "      <td>10 14, 2011</td>\n",
       "      <td>A1P0OVX2637TYW</td>\n",
       "      <td>terry</td>\n",
       "      <td>WAY overpriced. Math simply doesn't work out f...</td>\n",
       "      <td>1.318550e+09</td>\n",
       "      <td>1</td>\n",
       "      <td>17</td>\n",
       "      <td>34</td>\n",
       "      <td>2.000000</td>\n",
       "    </tr>\n",
       "    <tr>\n",
       "      <th>3</th>\n",
       "      <td>B001630QZE</td>\n",
       "      <td>[0, 0]</td>\n",
       "      <td>4.0</td>\n",
       "      <td>Well they say you get what you pay for, and th...</td>\n",
       "      <td>01 2, 2013</td>\n",
       "      <td>AT6701B61F2X1</td>\n",
       "      <td>The Beast</td>\n",
       "      <td>Super clear audio, very disceet design</td>\n",
       "      <td>1.357085e+09</td>\n",
       "      <td>1</td>\n",
       "      <td>0</td>\n",
       "      <td>0</td>\n",
       "      <td>0.000000</td>\n",
       "    </tr>\n",
       "    <tr>\n",
       "      <th>4</th>\n",
       "      <td>B001630QZE</td>\n",
       "      <td>[17, 20]</td>\n",
       "      <td>5.0</td>\n",
       "      <td>OK, I splurged. I usually don't spend this muc...</td>\n",
       "      <td>06 15, 2013</td>\n",
       "      <td>A24QFMD1RXLJMB</td>\n",
       "      <td>thelastpiece</td>\n",
       "      <td>Fantastic, but pricey</td>\n",
       "      <td>1.371254e+09</td>\n",
       "      <td>1</td>\n",
       "      <td>17</td>\n",
       "      <td>20</td>\n",
       "      <td>1.176471</td>\n",
       "    </tr>\n",
       "  </tbody>\n",
       "</table>\n",
       "</div>"
      ],
      "text/plain": [
       "         asin   helpful  overall  \\\n",
       "0  B0015RB39O    [0, 0]      5.0   \n",
       "1  B0015RB39O    [0, 0]      1.0   \n",
       "2  B001630QZE  [17, 34]      1.0   \n",
       "3  B001630QZE    [0, 0]      4.0   \n",
       "4  B001630QZE  [17, 20]      5.0   \n",
       "\n",
       "                                          reviewText   reviewTime  \\\n",
       "0  This product works pretty well for me. I don't...  08 15, 2012   \n",
       "1  Worked for 3 days then never worked again. Was...  04 28, 2012   \n",
       "2   always been a proponent of Bluetooth headset ...  10 14, 2011   \n",
       "3  Well they say you get what you pay for, and th...   01 2, 2013   \n",
       "4  OK, I splurged. I usually don't spend this muc...  06 15, 2013   \n",
       "\n",
       "       reviewerID  reviewerName  \\\n",
       "0   AQDA17WK201Q1     Taylor M.   \n",
       "1  A1V5XDKBWSHHX5      T. Chang   \n",
       "2  A1P0OVX2637TYW         terry   \n",
       "3   AT6701B61F2X1     The Beast   \n",
       "4  A24QFMD1RXLJMB  thelastpiece   \n",
       "\n",
       "                                             summary  unixReviewTime  Spam  \\\n",
       "0                                  Work as advertise    1.344989e+09     1   \n",
       "1                               Would not recommend.    1.335571e+09     1   \n",
       "2  WAY overpriced. Math simply doesn't work out f...    1.318550e+09     1   \n",
       "3             Super clear audio, very disceet design    1.357085e+09     1   \n",
       "4                              Fantastic, but pricey    1.371254e+09     1   \n",
       "\n",
       "   No_of_feedbacks  No_helpful_feedbacks  Perc_helpful_feedbacks  \n",
       "0                0                     0                0.000000  \n",
       "1                0                     0                0.000000  \n",
       "2               17                    34                2.000000  \n",
       "3                0                     0                0.000000  \n",
       "4               17                    20                1.176471  "
      ]
     },
     "execution_count": 135,
     "metadata": {},
     "output_type": "execute_result"
    }
   ],
   "source": [
    "df.head()"
   ]
  },
  {
   "cell_type": "markdown",
   "metadata": {},
   "source": [
    "### F4: Len_review_title "
   ]
  },
  {
   "cell_type": "code",
   "execution_count": 136,
   "metadata": {},
   "outputs": [],
   "source": [
    "D=[]\n",
    "for i in df[\"summary\"]:\n",
    "    D.append(len(str(i)))\n",
    "df[\"Len_review_title\"]=D"
   ]
  },
  {
   "cell_type": "markdown",
   "metadata": {},
   "source": [
    "### F5: len_review_body "
   ]
  },
  {
   "cell_type": "code",
   "execution_count": 137,
   "metadata": {},
   "outputs": [],
   "source": [
    "E=[]\n",
    "for i in df[\"reviewText\"]:\n",
    "    E.append(len(str(i)))\n",
    "df[\"len_review_body\"]=E"
   ]
  },
  {
   "cell_type": "markdown",
   "metadata": {},
   "source": [
    "### F6: Pos_review_Prod_sort_acs"
   ]
  },
  {
   "cell_type": "code",
   "execution_count": 138,
   "metadata": {},
   "outputs": [],
   "source": [
    "df[\"Pos_review_Prod_sort_acs\"]=df[\"unixReviewTime\"].sort_values().rank()"
   ]
  },
  {
   "cell_type": "markdown",
   "metadata": {},
   "source": [
    "### F7: Pos_review_Prod_sort_desc"
   ]
  },
  {
   "cell_type": "code",
   "execution_count": 139,
   "metadata": {},
   "outputs": [],
   "source": [
    "df[\"Pos_review_Prod_sort_desc\"]=df[\"unixReviewTime\"].sort_values().rank(ascending=False)"
   ]
  },
  {
   "cell_type": "markdown",
   "metadata": {},
   "source": [
    "### F10: Perc_pos_review"
   ]
  },
  {
   "cell_type": "code",
   "execution_count": 140,
   "metadata": {},
   "outputs": [],
   "source": [
    "P=[]\n",
    "for i in df[\"reviewText\"]:  \n",
    "    A=len(str(i).split())\n",
    "    l=[]\n",
    "    for j in (str(i).split()):\n",
    "         if (j in good_list):\n",
    "                l.append(j)\n",
    "    B=len(l)\n",
    "    P.append((B/A)*100)"
   ]
  },
  {
   "cell_type": "code",
   "execution_count": 141,
   "metadata": {},
   "outputs": [],
   "source": [
    "P=pd.DataFrame(P)\n",
    "df[\"Perc_pos_review\"]=P"
   ]
  },
  {
   "cell_type": "markdown",
   "metadata": {},
   "source": [
    "### F11: Perc_neg_review"
   ]
  },
  {
   "cell_type": "code",
   "execution_count": 142,
   "metadata": {},
   "outputs": [],
   "source": [
    "Q=[]\n",
    "for i in df[\"reviewText\"]:  \n",
    "    A=len(str(i).split())\n",
    "    l=[]\n",
    "    for j in (str(i).split()):\n",
    "         if (j in bad_list):\n",
    "                l.append(j)\n",
    "    B=len(l)\n",
    "    Q.append((B/A)*100)"
   ]
  },
  {
   "cell_type": "code",
   "execution_count": 143,
   "metadata": {},
   "outputs": [],
   "source": [
    "Q=pd.DataFrame(Q)\n",
    "df[\"Perc_neg_review\"]=Q"
   ]
  },
  {
   "cell_type": "markdown",
   "metadata": {},
   "source": [
    "### F14: Perc_num_wrd"
   ]
  },
  {
   "cell_type": "code",
   "execution_count": 144,
   "metadata": {},
   "outputs": [],
   "source": [
    "import numpy as np\n",
    "B=[]\n",
    "Alen=[]\n",
    "for i in df[\"reviewText\"]:\n",
    "    l=[]\n",
    "    try:\n",
    "        A=list(i.replace(\" \", \"\"))\n",
    "        Alen.append(len(A))\n",
    "        for j in A:\n",
    "            if j.isnumeric():\n",
    "                l.append(j)\n",
    "        B.append(len(l))\n",
    "    except AttributeError:\n",
    "        np.NaN\n",
    "A=np.array(Alen)\n",
    "B=np.array(B)\n",
    "C=(B/A)*100"
   ]
  },
  {
   "cell_type": "code",
   "execution_count": 145,
   "metadata": {},
   "outputs": [],
   "source": [
    "df[\"Perc_num_wrd\"]=pd.DataFrame(C)"
   ]
  },
  {
   "cell_type": "markdown",
   "metadata": {},
   "source": [
    "# F15: Perc_caps_wrd"
   ]
  },
  {
   "cell_type": "code",
   "execution_count": 146,
   "metadata": {},
   "outputs": [],
   "source": [
    "import numpy as np\n",
    "B=[]\n",
    "Alen=[]\n",
    "for i in df[\"reviewText\"]:\n",
    "    l=[]\n",
    "    try:\n",
    "        A=list(i.replace(\" \", \"\"))\n",
    "        Alen.append(len(A))\n",
    "        for j in A:\n",
    "            if j.isupper():\n",
    "                l.append(j)\n",
    "        B.append(len(l))\n",
    "    except AttributeError:\n",
    "        np.NaN\n",
    "A=np.array(Alen)\n",
    "B=np.array(B)\n",
    "C=(B/A)*100"
   ]
  },
  {
   "cell_type": "code",
   "execution_count": 147,
   "metadata": {},
   "outputs": [],
   "source": [
    "df[\"Perc_caps_wrd\"]=pd.DataFrame(C)"
   ]
  },
  {
   "cell_type": "markdown",
   "metadata": {},
   "source": [
    "### F16: perc_all_cap_wrd"
   ]
  },
  {
   "cell_type": "code",
   "execution_count": 148,
   "metadata": {},
   "outputs": [],
   "source": [
    "import numpy as np\n",
    "B=[]\n",
    "Alen=[]\n",
    "for i in df[\"reviewText\"]:\n",
    "    l=[]\n",
    "    try:\n",
    "        A=list(i.replace(\" \", \"\"))\n",
    "        for j in A:\n",
    "            if j.isupper():\n",
    "                l.append(j)\n",
    "        B.append(len(l))\n",
    "    except AttributeError:\n",
    "        np.NaN\n",
    "B=np.array(B)"
   ]
  },
  {
   "cell_type": "code",
   "execution_count": 149,
   "metadata": {},
   "outputs": [],
   "source": [
    "df[\"perc_all_cap_wrd\"]=pd.DataFrame(B)"
   ]
  },
  {
   "cell_type": "markdown",
   "metadata": {},
   "source": [
    "### F17: Rate_review"
   ]
  },
  {
   "cell_type": "code",
   "execution_count": 150,
   "metadata": {},
   "outputs": [],
   "source": [
    "A=[]\n",
    "temp=[]\n",
    "for i in df[\"helpful\"]:\n",
    "    d=i.strip(']')\n",
    "    d=d.strip('[')\n",
    "    temp.append(d.split(','))\n",
    "for i in temp:\n",
    "    A.append(int(i[0]))"
   ]
  },
  {
   "cell_type": "code",
   "execution_count": 151,
   "metadata": {},
   "outputs": [],
   "source": [
    "df[\"Rate_review\"]=pd.DataFrame(A)"
   ]
  },
  {
   "cell_type": "markdown",
   "metadata": {},
   "source": [
    "### F18: dev_prod_rate"
   ]
  },
  {
   "cell_type": "code",
   "execution_count": 152,
   "metadata": {},
   "outputs": [],
   "source": [
    "A=[]\n",
    "temp=[]\n",
    "B=[]\n",
    "for i in df[\"helpful\"]:\n",
    "    d=i.strip(']')\n",
    "    d=d.strip('[')\n",
    "    temp.append(d.split(','))\n",
    "\n",
    "for i in temp:\n",
    "    A.append(int(i[1]))\n",
    "\n",
    "for i in df[\"overall\"]:\n",
    "    B.append(i)\n",
    "C=np.array(list(map(list,zip(A,B))))\n",
    "\n",
    "import numpy as np\n",
    "C=np.array(list(map(list,zip(A,B))))\n",
    "C=np.std(C,axis=1)\n",
    "df[\"dev_prod_rate\"]=pd.DataFrame(C)"
   ]
  },
  {
   "cell_type": "markdown",
   "metadata": {},
   "source": [
    "### F19: senti_review"
   ]
  },
  {
   "cell_type": "code",
   "execution_count": 153,
   "metadata": {},
   "outputs": [],
   "source": [
    "sent = []\n",
    "posall=[]\n",
    "negall = []\n",
    "for i,row in df.iterrows():\n",
    "    \n",
    "    tt = row[\"summary\"]\n",
    "    fg=0\n",
    "    cnt_pos = 0\n",
    "    cnt_neg=0\n",
    "    pos_sent=\"\"\n",
    "    neg_sent = \"\"  \n",
    "\n",
    "    for j in str(tt).split():\n",
    "        if(j in good_list):\n",
    "            cnt_pos = cnt_pos+1\n",
    "            pos_sent= pos_sent + \" \" + j\n",
    "                        \n",
    "\n",
    "        elif (j in bad_list):\n",
    "            cnt_neg = cnt_neg+1\n",
    "            neg_sent= neg_sent + \" \" + j\n",
    "    diff = np.abs(cnt_pos - cnt_neg) \n",
    "    posall.append(pos_sent)\n",
    "    negall.append(neg_sent)    \n",
    "    if(diff>=1):\n",
    "        if(cnt_pos>cnt_neg):\n",
    "            sent.append('good')\n",
    "            \n",
    "        else:\n",
    "            sent.append('bad')\n",
    "            \n",
    "    else:\n",
    "        sent.append('average')\n",
    "        "
   ]
  },
  {
   "cell_type": "code",
   "execution_count": 154,
   "metadata": {
    "scrolled": false
   },
   "outputs": [],
   "source": [
    "df[\"senti_review\"]=pd.DataFrame(sent)"
   ]
  },
  {
   "cell_type": "markdown",
   "metadata": {},
   "source": [
    "## Step 7: Consolidated dataframe"
   ]
  },
  {
   "cell_type": "code",
   "execution_count": 155,
   "metadata": {
    "collapsed": true
   },
   "outputs": [
    {
     "data": {
      "text/html": [
       "<div>\n",
       "<style scoped>\n",
       "    .dataframe tbody tr th:only-of-type {\n",
       "        vertical-align: middle;\n",
       "    }\n",
       "\n",
       "    .dataframe tbody tr th {\n",
       "        vertical-align: top;\n",
       "    }\n",
       "\n",
       "    .dataframe thead th {\n",
       "        text-align: right;\n",
       "    }\n",
       "</style>\n",
       "<table border=\"1\" class=\"dataframe\">\n",
       "  <thead>\n",
       "    <tr style=\"text-align: right;\">\n",
       "      <th></th>\n",
       "      <th>asin</th>\n",
       "      <th>helpful</th>\n",
       "      <th>overall</th>\n",
       "      <th>reviewText</th>\n",
       "      <th>reviewTime</th>\n",
       "      <th>reviewerID</th>\n",
       "      <th>reviewerName</th>\n",
       "      <th>summary</th>\n",
       "      <th>unixReviewTime</th>\n",
       "      <th>Spam</th>\n",
       "      <th>...</th>\n",
       "      <th>Pos_review_Prod_sort_acs</th>\n",
       "      <th>Pos_review_Prod_sort_desc</th>\n",
       "      <th>Perc_pos_review</th>\n",
       "      <th>Perc_neg_review</th>\n",
       "      <th>Perc_num_wrd</th>\n",
       "      <th>Perc_caps_wrd</th>\n",
       "      <th>perc_all_cap_wrd</th>\n",
       "      <th>Rate_review</th>\n",
       "      <th>dev_prod_rate</th>\n",
       "      <th>senti_review</th>\n",
       "    </tr>\n",
       "  </thead>\n",
       "  <tbody>\n",
       "    <tr>\n",
       "      <th>0</th>\n",
       "      <td>B0015RB39O</td>\n",
       "      <td>[0, 0]</td>\n",
       "      <td>5.0</td>\n",
       "      <td>This product works pretty well for me. I don't...</td>\n",
       "      <td>08 15, 2012</td>\n",
       "      <td>AQDA17WK201Q1</td>\n",
       "      <td>Taylor M.</td>\n",
       "      <td>Work as advertise</td>\n",
       "      <td>1.344989e+09</td>\n",
       "      <td>1</td>\n",
       "      <td>...</td>\n",
       "      <td>362.5</td>\n",
       "      <td>24635.5</td>\n",
       "      <td>16.666667</td>\n",
       "      <td>5.555556</td>\n",
       "      <td>0.000000</td>\n",
       "      <td>2.597403</td>\n",
       "      <td>2.0</td>\n",
       "      <td>0</td>\n",
       "      <td>2.5</td>\n",
       "      <td>average</td>\n",
       "    </tr>\n",
       "    <tr>\n",
       "      <th>1</th>\n",
       "      <td>B0015RB39O</td>\n",
       "      <td>[0, 0]</td>\n",
       "      <td>1.0</td>\n",
       "      <td>Worked for 3 days then never worked again. Was...</td>\n",
       "      <td>04 28, 2012</td>\n",
       "      <td>A1V5XDKBWSHHX5</td>\n",
       "      <td>T. Chang</td>\n",
       "      <td>Would not recommend.</td>\n",
       "      <td>1.335571e+09</td>\n",
       "      <td>1</td>\n",
       "      <td>...</td>\n",
       "      <td>306.0</td>\n",
       "      <td>24692.0</td>\n",
       "      <td>10.526316</td>\n",
       "      <td>5.263158</td>\n",
       "      <td>1.041667</td>\n",
       "      <td>3.125000</td>\n",
       "      <td>3.0</td>\n",
       "      <td>0</td>\n",
       "      <td>0.5</td>\n",
       "      <td>average</td>\n",
       "    </tr>\n",
       "    <tr>\n",
       "      <th>2</th>\n",
       "      <td>B001630QZE</td>\n",
       "      <td>[17, 34]</td>\n",
       "      <td>1.0</td>\n",
       "      <td>always been a proponent of Bluetooth headset ...</td>\n",
       "      <td>10 14, 2011</td>\n",
       "      <td>A1P0OVX2637TYW</td>\n",
       "      <td>terry</td>\n",
       "      <td>WAY overpriced. Math simply doesn't work out f...</td>\n",
       "      <td>1.318550e+09</td>\n",
       "      <td>1</td>\n",
       "      <td>...</td>\n",
       "      <td>254.0</td>\n",
       "      <td>24744.0</td>\n",
       "      <td>3.260870</td>\n",
       "      <td>2.173913</td>\n",
       "      <td>1.054945</td>\n",
       "      <td>2.857143</td>\n",
       "      <td>65.0</td>\n",
       "      <td>17</td>\n",
       "      <td>16.5</td>\n",
       "      <td>good</td>\n",
       "    </tr>\n",
       "    <tr>\n",
       "      <th>3</th>\n",
       "      <td>B001630QZE</td>\n",
       "      <td>[0, 0]</td>\n",
       "      <td>4.0</td>\n",
       "      <td>Well they say you get what you pay for, and th...</td>\n",
       "      <td>01 2, 2013</td>\n",
       "      <td>AT6701B61F2X1</td>\n",
       "      <td>The Beast</td>\n",
       "      <td>Super clear audio, very disceet design</td>\n",
       "      <td>1.357085e+09</td>\n",
       "      <td>1</td>\n",
       "      <td>...</td>\n",
       "      <td>3701.5</td>\n",
       "      <td>21296.5</td>\n",
       "      <td>2.758621</td>\n",
       "      <td>2.068966</td>\n",
       "      <td>0.154321</td>\n",
       "      <td>1.774691</td>\n",
       "      <td>23.0</td>\n",
       "      <td>0</td>\n",
       "      <td>2.0</td>\n",
       "      <td>good</td>\n",
       "    </tr>\n",
       "    <tr>\n",
       "      <th>4</th>\n",
       "      <td>B001630QZE</td>\n",
       "      <td>[17, 20]</td>\n",
       "      <td>5.0</td>\n",
       "      <td>OK, I splurged. I usually don't spend this muc...</td>\n",
       "      <td>06 15, 2013</td>\n",
       "      <td>A24QFMD1RXLJMB</td>\n",
       "      <td>thelastpiece</td>\n",
       "      <td>Fantastic, but pricey</td>\n",
       "      <td>1.371254e+09</td>\n",
       "      <td>1</td>\n",
       "      <td>...</td>\n",
       "      <td>11096.5</td>\n",
       "      <td>13901.5</td>\n",
       "      <td>3.238866</td>\n",
       "      <td>1.214575</td>\n",
       "      <td>0.777202</td>\n",
       "      <td>3.713299</td>\n",
       "      <td>43.0</td>\n",
       "      <td>17</td>\n",
       "      <td>7.5</td>\n",
       "      <td>bad</td>\n",
       "    </tr>\n",
       "  </tbody>\n",
       "</table>\n",
       "<p>5 rows × 25 columns</p>\n",
       "</div>"
      ],
      "text/plain": [
       "         asin   helpful  overall  \\\n",
       "0  B0015RB39O    [0, 0]      5.0   \n",
       "1  B0015RB39O    [0, 0]      1.0   \n",
       "2  B001630QZE  [17, 34]      1.0   \n",
       "3  B001630QZE    [0, 0]      4.0   \n",
       "4  B001630QZE  [17, 20]      5.0   \n",
       "\n",
       "                                          reviewText   reviewTime  \\\n",
       "0  This product works pretty well for me. I don't...  08 15, 2012   \n",
       "1  Worked for 3 days then never worked again. Was...  04 28, 2012   \n",
       "2   always been a proponent of Bluetooth headset ...  10 14, 2011   \n",
       "3  Well they say you get what you pay for, and th...   01 2, 2013   \n",
       "4  OK, I splurged. I usually don't spend this muc...  06 15, 2013   \n",
       "\n",
       "       reviewerID  reviewerName  \\\n",
       "0   AQDA17WK201Q1     Taylor M.   \n",
       "1  A1V5XDKBWSHHX5      T. Chang   \n",
       "2  A1P0OVX2637TYW         terry   \n",
       "3   AT6701B61F2X1     The Beast   \n",
       "4  A24QFMD1RXLJMB  thelastpiece   \n",
       "\n",
       "                                             summary  unixReviewTime  Spam  \\\n",
       "0                                  Work as advertise    1.344989e+09     1   \n",
       "1                               Would not recommend.    1.335571e+09     1   \n",
       "2  WAY overpriced. Math simply doesn't work out f...    1.318550e+09     1   \n",
       "3             Super clear audio, very disceet design    1.357085e+09     1   \n",
       "4                              Fantastic, but pricey    1.371254e+09     1   \n",
       "\n",
       "       ...       Pos_review_Prod_sort_acs  Pos_review_Prod_sort_desc  \\\n",
       "0      ...                          362.5                    24635.5   \n",
       "1      ...                          306.0                    24692.0   \n",
       "2      ...                          254.0                    24744.0   \n",
       "3      ...                         3701.5                    21296.5   \n",
       "4      ...                        11096.5                    13901.5   \n",
       "\n",
       "   Perc_pos_review  Perc_neg_review  Perc_num_wrd  Perc_caps_wrd  \\\n",
       "0        16.666667         5.555556      0.000000       2.597403   \n",
       "1        10.526316         5.263158      1.041667       3.125000   \n",
       "2         3.260870         2.173913      1.054945       2.857143   \n",
       "3         2.758621         2.068966      0.154321       1.774691   \n",
       "4         3.238866         1.214575      0.777202       3.713299   \n",
       "\n",
       "   perc_all_cap_wrd  Rate_review  dev_prod_rate  senti_review  \n",
       "0               2.0            0            2.5       average  \n",
       "1               3.0            0            0.5       average  \n",
       "2              65.0           17           16.5          good  \n",
       "3              23.0            0            2.0          good  \n",
       "4              43.0           17            7.5           bad  \n",
       "\n",
       "[5 rows x 25 columns]"
      ]
     },
     "execution_count": 155,
     "metadata": {},
     "output_type": "execute_result"
    }
   ],
   "source": [
    "# Displaying first 5 rows \n",
    "df.head(5)"
   ]
  },
  {
   "cell_type": "code",
   "execution_count": 156,
   "metadata": {},
   "outputs": [
    {
     "data": {
      "text/plain": [
       "(25000, 25)"
      ]
     },
     "execution_count": 156,
     "metadata": {},
     "output_type": "execute_result"
    }
   ],
   "source": [
    "# Checking the dimension of the datarframe\n",
    "df.shape"
   ]
  },
  {
   "cell_type": "markdown",
   "metadata": {},
   "source": [
    "## Step 8: Exporting dataframe to csv"
   ]
  },
  {
   "cell_type": "code",
   "execution_count": 158,
   "metadata": {},
   "outputs": [],
   "source": [
    "# Writing the data into csv\n",
    "df.to_csv(\"all_spam_with_features_final_dataset.csv\")"
   ]
  }
 ],
 "metadata": {
  "kernelspec": {
   "display_name": "Python 3",
   "language": "python",
   "name": "python3"
  },
  "language_info": {
   "codemirror_mode": {
    "name": "ipython",
    "version": 3
   },
   "file_extension": ".py",
   "mimetype": "text/x-python",
   "name": "python",
   "nbconvert_exporter": "python",
   "pygments_lexer": "ipython3",
   "version": "3.6.5"
  }
 },
 "nbformat": 4,
 "nbformat_minor": 2
}
